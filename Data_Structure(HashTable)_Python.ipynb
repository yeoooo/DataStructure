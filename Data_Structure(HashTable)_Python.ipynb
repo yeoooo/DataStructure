{
 "cells": [
  {
   "cell_type": "markdown",
   "metadata": {},
   "source": [
    "## 기본 Hash 구현"
   ]
  },
  {
   "cell_type": "code",
   "execution_count": 3,
   "metadata": {},
   "outputs": [],
   "source": [
    "class HashTable:\n",
    "    def __init__(self):\n",
    "        self.hash_table = list([0 for i in range(10)])#10칸짜리 리스트 생성\n",
    "        \n",
    "    def hash_function(self, key):#해쉬코드로 만든다\n",
    "        return key % 10 #받은 키 값을 10으로 나눈 나머지 값이 키 값\n",
    "    \n",
    "    def insert(self, key, value):#key를 hashtable의 index로 받아 value를 저장\n",
    "        hash_value = self.hash_function(hash(key))#기본 함수 hash를 10으로 나눈 나머지 값을\n",
    "                                                  #hash_value(idx)에 저장\n",
    "        self.hash_table[hash_value] = value      #value 값은 만들어진 해시 테이블 객체에 \n",
    "                                                #저장\n",
    "        \n",
    "    def read(self, key):\n",
    "        hash_value = self.hash_function(hash(key))#받은 키값을 insert의 과정과 같이 hash화\n",
    "                                                  #한 다음에 hash_value를 얻어내고\n",
    "        return self.hash_table[hash_value]        #얻어낸 값을 통해 값 호출\n",
    "    \n",
    "    def print(self):\n",
    "        print(self.hash_table)"
   ]
  },
  {
   "cell_type": "code",
   "execution_count": 6,
   "metadata": {},
   "outputs": [
    {
     "name": "stdout",
     "output_type": "stream",
     "text": [
      "[0, 0, 0, 0, 0, 0, 'Lee', 180, 70, 0]\n"
     ]
    }
   ],
   "source": [
    "ht = HashTable()\n",
    "ht.insert('weight', 70)\n",
    "ht.insert('height', 180)\n",
    "ht.insert('name', 'Lee')\n",
    "ht.print()"
   ]
  },
  {
   "cell_type": "code",
   "execution_count": 5,
   "metadata": {},
   "outputs": [
    {
     "name": "stdout",
     "output_type": "stream",
     "text": [
      "[0, 0, 0, 0, 0, 0, 0, 0, 10, 0]\n"
     ]
    }
   ],
   "source": [
    "ht = HashTable()\n",
    "ht.insert('weight', 70)\n",
    "ht.insert('weight', 68)\n",
    "ht.insert('weight', 10)\n",
    "ht.print()"
   ]
  },
  {
   "cell_type": "markdown",
   "metadata": {},
   "source": [
    "충돌 발생"
   ]
  },
  {
   "cell_type": "markdown",
   "metadata": {},
   "source": [
    "## 체인 Hash 구현(Open hashing기법)  \n",
    "Open hashing은 key가 중복되어 해시 값이 중복되는 경우에 연결리스트 또는 이중 리스트를 만들어 연계 되게끔 한다."
   ]
  },
  {
   "cell_type": "code",
   "execution_count": 11,
   "metadata": {},
   "outputs": [],
   "source": [
    "class HashTable:\n",
    "    def __init__(self): #기본 hash와 상동\n",
    "        self.hash_table = list([None for i in range(10)])\n",
    "    \n",
    "    def hash_function(self, key):\n",
    "        return key % 10\n",
    "    \n",
    "    def insert(self, key, value):\n",
    "        gen_key = hash(key)#key에 hash를 거쳐 key를 만들어냄\n",
    "        hash_value = self.hash_function(gen_key)#basic hash와 같은 일을 두 줄에 걸쳐 진행\n",
    "        \n",
    "        if self.hash_table[hash_value] != None: #원하는 key 값에 어떤 값이 존재하면\n",
    "            for i in range(len(self.hash_table[hash_value])): #해당 리스트 탐색\n",
    "                if self.hash_table[hash_value][i][0] == gen_key:#key가 같으면 \n",
    "                    self.hash_table[hash_value][i][1] = value#다음 리스트에 값을 넣어줌\n",
    "                    return\n",
    "        else: #원하는 key 값에 어떤 값이 존재하지 않으면\n",
    "            self.hash_table[hash_value] = [[gen_key, value]] #해당 key에 hash_function을 거치기 전의 key값과 value를 넣어준다\n",
    "        \n",
    "    def read(self, key):\n",
    "        gen_key = hash(key)\n",
    "        hash_value = self.hash_function(gen_key)\n",
    "        \n",
    "        if self.hash_table[hash_value] != None: #어떤 값이 있다면\n",
    "            for i in range(len(self.hash_table[hash_value])): #해당 리스트 탐색 \n",
    "                if self.hash_table[hash_value][i][0] == gen_key: #이전 key값과 같다면 \n",
    "                    return self.hash_table[hash_value][i][1]#그 다음 리스트의 값을 반환\n",
    "                return None #동일 값이 없으면 None\n",
    "        else:\n",
    "            return None# 값 자체가 존재하지 않는 경우\n",
    "        \n",
    "    def print(self):\n",
    "        print(self.hash_table)"
   ]
  },
  {
   "cell_type": "code",
   "execution_count": 12,
   "metadata": {},
   "outputs": [
    {
     "name": "stdout",
     "output_type": "stream",
     "text": [
      "[None, None, None, None, None, None, [[7030482135170442476, 'Lee']], [[-2844023872478185853, 180]], [[138149891254057648, 70]], None]\n"
     ]
    }
   ],
   "source": [
    "ht = HashTable()\n",
    "ht.insert('weight', 70)\n",
    "ht.insert('height', 180)\n",
    "ht.insert('name', 'Lee')\n",
    "ht.print()"
   ]
  },
  {
   "cell_type": "code",
   "execution_count": 23,
   "metadata": {},
   "outputs": [
    {
     "name": "stdout",
     "output_type": "stream",
     "text": [
      "[[6318160508878485290, 68], None, [-6019639732325293078, 50], None, None, None, None, [-8515213796824569343, 70], None, None]\n"
     ]
    }
   ],
   "source": [
    "ht = HashTable()\n",
    "ht.insert('1', 70)\n",
    "ht.insert('3', 68)\n",
    "ht.insert('5', 50)\n",
    "ht.print()"
   ]
  },
  {
   "cell_type": "markdown",
   "metadata": {},
   "source": [
    "충돌이 일어나는 곳 마다 리스트가 들어가있다."
   ]
  },
  {
   "cell_type": "markdown",
   "metadata": {},
   "source": [
    "## Linear Probing(Close Hashing 기법, Open Adressing)  \n",
    "충돌이 일어났을 때 비어있는 hash table의 바로 다음칸에 value를 넣어준다.  \n",
    "알아서 남은 저장공간을 찾아 들어가기 때문에 공간의 효율성은 증가하지만  \n",
    "그 공간이 넘어가게되면 충돌이 일어난다"
   ]
  },
  {
   "cell_type": "code",
   "execution_count": 24,
   "metadata": {},
   "outputs": [],
   "source": [
    "class HashTable:\n",
    "    def __init__(self):\n",
    "        self.hash_table = list([None for i in range(10)])\n",
    "    \n",
    "    def hash_function(self, key):\n",
    "        return key % 10\n",
    "    \n",
    "    def insert(self, key, value):\n",
    "        gen_key = hash(key)\n",
    "        hash_value = self.hash_function(gen_key)\n",
    "        \n",
    "        if self.hash_table[hash_value] != None: #해당 hashtable이 비어있지 않으면 \n",
    "            for i in range(hash_value, len(self.hash_table)):# 탐색\n",
    "                \n",
    "                if self.hash_table[i] == None:#해당 hashtable이 비어있으면\n",
    "                    self.hash_table[i] = [gen_key, value]#그냥 넣어줌\n",
    "                    return#종료\n",
    "                elif self.hash_table[i][0] == gen_key:#key1 값과 같으면\n",
    "                    self.hash_table[i][1] = value#value를 그 다음에 넣어줌\n",
    "                    return\n",
    "        else:\n",
    "            self.hash_table[hash_value] = [gen_key, value]#비어있으면 그냥 넣어줌\n",
    "    \n",
    "    def read(self, key):\n",
    "        gen_key = hash(key)\n",
    "        hash_value = self.hash_function(gen_key)\n",
    "        \n",
    "        if self.hash_table[hash_value] != None:#비어있지 않으면\n",
    "            \n",
    "            for i in range(hash_value, len(self.hash_table)): #\n",
    "                if self.hash_table[i] == None:\n",
    "                    return None\n",
    "                elif self.hash_table[i][0] == gen_key:#key1 값과 같으면\n",
    "                    return self.hash_table[i][1]#다음 칸을 보여줌\n",
    "        else:\n",
    "            return None\n",
    "        \n",
    "    def print(self):\n",
    "        print(self.hash_table)"
   ]
  },
  {
   "cell_type": "code",
   "execution_count": 48,
   "metadata": {},
   "outputs": [
    {
     "name": "stdout",
     "output_type": "stream",
     "text": [
      "[[-6998905096470099830, 55], [1745057005528420451, 68], None, [8537325459715294273, 70], [-5532138945710123876, 57], [8580312850236359013, 57], [105341782935094106, 58], [3185872005509018356, 76], [138149891254057648, 50], [-8037008599720218241, 75]]\n"
     ]
    }
   ],
   "source": [
    "ht = HashTable()\n",
    "ht.insert('weigh', 70)\n",
    "ht.insert('weig', 68)\n",
    "ht.insert('weight', 50)\n",
    "ht.insert('wight', 58)\n",
    "ht.insert('wght', 75)\n",
    "ht.insert('ght', 57)\n",
    "ht.insert('weigt', 76)\n",
    "ht.insert('weigaht', 57)\n",
    "ht.insert('weigbt', 53)\n",
    "ht.insert('we3ght', 55)\n",
    "ht.insert('weyght', 55)\n",
    "ht.insert('we1ght', 55)\n",
    "ht.insert('welght', 55)\n",
    "ht.print()"
   ]
  },
  {
   "cell_type": "code",
   "execution_count": null,
   "metadata": {},
   "outputs": [],
   "source": []
  }
 ],
 "metadata": {
  "kernelspec": {
   "display_name": "aiffel",
   "language": "python",
   "name": "aiffel"
  },
  "language_info": {
   "codemirror_mode": {
    "name": "ipython",
    "version": 3
   },
   "file_extension": ".py",
   "mimetype": "text/x-python",
   "name": "python",
   "nbconvert_exporter": "python",
   "pygments_lexer": "ipython3",
   "version": "3.7.9"
  }
 },
 "nbformat": 4,
 "nbformat_minor": 4
}
