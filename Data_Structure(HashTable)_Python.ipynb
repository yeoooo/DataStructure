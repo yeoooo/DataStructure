{
 "cells": [
  {
   "cell_type": "markdown",
   "metadata": {},
   "source": [
    "## 기본 Hash 구현"
   ]
  },
  {
   "cell_type": "code",
   "execution_count": 8,
   "metadata": {},
   "outputs": [],
   "source": [
    "class HashTable:\n",
    "    def __init__(self):\n",
    "        self.hash_table = list([0 for i in range(10)])#10칸짜리 리스트 생성\n",
    "        2\n",
    "    def hash_function(self, key):#\n",
    "        return key % 10\n",
    "    \n",
    "    def insert(self, key, value):\n",
    "        hash_value = self.hash_function(hash(key))\n",
    "        self.hash_table[hash_value] = value\n",
    "        \n",
    "    def read(self, key):\n",
    "        hash_value = self.hash_function(hash(key))\n",
    "        return self.hash_table[hash_value]\n",
    "    \n",
    "    def print(self):\n",
    "        print(self.hash_table)"
   ]
  },
  {
   "cell_type": "markdown",
   "metadata": {},
   "source": [
    "## 체인 Hash 구현(Open hashing기법)"
   ]
  },
  {
   "cell_type": "code",
   "execution_count": 15,
   "metadata": {},
   "outputs": [],
   "source": [
    "class HashTable:\n",
    "    def __init__(self):\n",
    "        self.hash_table = list([None for i in range(10)])\n",
    "    \n",
    "    def hash_function(self, key):\n",
    "        return key % 10\n",
    "    \n",
    "    def insert(self, key, value):\n",
    "        gen_key = hash(key)\n",
    "        hash_value = self.hash_function(gen_key)\n",
    "        \n",
    "        if self.hash_table[hash_value] != 0:\n",
    "            for i in range(len(self.hash_table[hash_value])):\n",
    "                if self.hash_table[hash_value][i][0] == gen_key:\n",
    "                    self.hash_table[hash_value][i][1] == value\n",
    "                    return\n",
    "        else:\n",
    "            self.hash_Table[hash_value]  [[gen_key, value]]\n",
    "        \n",
    "    def read(self, key):\n",
    "        gen_key = hash(key)\n",
    "        hash_value = self.hash_function(gen_key)\n",
    "        \n",
    "        if self.hash_table[hash_value] != 0:\n",
    "            for i in range(len(self.hash_table[hash_value])):\n",
    "                if self.hash_table[hash_value][i][0] == gen_key:\n",
    "                    return self.hash_table[hash_value][i][1]\n",
    "            return None\n",
    "        else:\n",
    "            return None\n",
    "        \n",
    "    def print(self):\n",
    "        print(self.hash_table)"
   ]
  },
  {
   "cell_type": "markdown",
   "metadata": {},
   "source": [
    "## Linear Probing(Close Hashing 기법, Open Adressing) "
   ]
  },
  {
   "cell_type": "code",
   "execution_count": 16,
   "metadata": {},
   "outputs": [],
   "source": [
    "class HashTable:\n",
    "    def __init__(self):\n",
    "        self.hash_table = list([None for i in range(10)])\n",
    "    \n",
    "    def hash_function(self, key):\n",
    "        return key % 10\n",
    "    \n",
    "    def insert(self, key, value):\n",
    "        gen_key = hash(key)\n",
    "        hash_value = self.hash_function(gen_key)\n",
    "        \n",
    "        if self.hash_table[hash_value] != 0:\n",
    "            for i in range(hash_value, len(self,hash_table)):\n",
    "                \n",
    "                if self.hash_table[i] == 0:\n",
    "                    self.hash_table[i] = [gen_key, value]\n",
    "                    return\n",
    "                elif self.hash_table[i][0] == gen_key:\n",
    "                    self.hash_table[i][1] = value\n",
    "                    return\n",
    "        else:\n",
    "            self.hash_table[hash_value] = [gen_key, value]\n",
    "    \n",
    "    def read(self, key):\n",
    "        gen_key = hash(key)\n",
    "        hash_value = self.hash_function(gen_key)\n",
    "        \n",
    "        if self.hash_table[hash_value] != 0:\n",
    "            \n",
    "            for i in  range(hash_value, len(self.hash_table)):\n",
    "                if self.hash_table[i] == 0:\n",
    "                    return None\n",
    "                elif self.hash_table[i][0] == gen_key:\n",
    "                    return self.hash_table[i][1]\n",
    "        else:\n",
    "            return None\n",
    "        \n",
    "    def print(self):\n",
    "        print(self.hash_table)"
   ]
  },
  {
   "cell_type": "code",
   "execution_count": null,
   "metadata": {},
   "outputs": [],
   "source": []
  }
 ],
 "metadata": {
  "kernelspec": {
   "display_name": "aiffel",
   "language": "python",
   "name": "aiffel"
  },
  "language_info": {
   "codemirror_mode": {
    "name": "ipython",
    "version": 3
   },
   "file_extension": ".py",
   "mimetype": "text/x-python",
   "name": "python",
   "nbconvert_exporter": "python",
   "pygments_lexer": "ipython3",
   "version": "3.7.9"
  }
 },
 "nbformat": 4,
 "nbformat_minor": 4
}
